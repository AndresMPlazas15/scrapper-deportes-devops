{
  "nbformat": 4,
  "nbformat_minor": 0,
  "metadata": {
    "colab": {
      "provenance": [],
      "mount_file_id": "1fmt8RiulRca_lfO6mpOV6UYjkbA3BHX7",
      "authorship_tag": "ABX9TyNZDDor8zDKHLdbgRgiCgbM",
      "include_colab_link": true
    },
    "kernelspec": {
      "name": "python3",
      "display_name": "Python 3"
    },
    "language_info": {
      "name": "python"
    }
  },
  "cells": [
    {
      "cell_type": "markdown",
      "metadata": {
        "id": "view-in-github",
        "colab_type": "text"
      },
      "source": [
        "<a href=\"https://colab.research.google.com/github/AndresPlazas19931504/scrapper-deportes-devops/blob/main/Plazas__Andres_Analizando_EA1.ipynb\" target=\"_parent\"><img src=\"https://colab.research.google.com/assets/colab-badge.svg\" alt=\"Open In Colab\"/></a>"
      ]
    },
    {
      "cell_type": "code",
      "source": [
        "import requests\n",
        "from bs4 import BeautifulSoup\n",
        "import pandas as pd\n",
        "\n",
        "headers = {\n",
        "    \"User-Agent\": \"Mozilla/5.0 (Windows NT 10.0; Win64; x64) AppleWebKit/537.36 (KHTML, like Gecko) Chrome/102.0.0.0 Safari/537.36\"\n",
        "}"
      ],
      "metadata": {
        "id": "8tUorAOyl45Z"
      },
      "execution_count": 1,
      "outputs": []
    },
    {
      "cell_type": "code",
      "source": [
        "def web_scraping_espn_combinado():\n",
        "    try:\n",
        "        url = \"https://www.espn.com.co/futbol/posiciones/_/liga/eng.1\"\n",
        "        response = requests.get(url, headers=headers)\n",
        "\n",
        "        response.raise_for_status()\n",
        "\n",
        "        soup = BeautifulSoup(response.content, \"html.parser\")\n",
        "\n",
        "        tabla_posiciones1 = soup.find(\"table\", {\"class\": \"Table Table--align-right Table--fixed Table--fixed-left\"})\n",
        "        filas1 = tabla_posiciones1.find_all(\"tr\", {\"class\": [\"Table__TR Table__TR--sm Table__even\", \"filled Table__TR Table__TR--sm Table__even\"]})\n",
        "        posiciones = []\n",
        "        abreviaturas = []\n",
        "        nombres = []\n",
        "        for fila in filas1:\n",
        "            posicion = fila.find(\"span\", {\"class\": \"team-position ml2 pr3\"}).text\n",
        "            nombre_equipo = fila.find(\"span\", {\"class\": \"hide-mobile\"}).text\n",
        "            abreviatura_equipo = fila.find(\"span\", {\"class\": \"dn show-mobile\"}).text\n",
        "            posiciones.append(posicion)\n",
        "            abreviaturas.append(abreviatura_equipo)\n",
        "            nombres.append(nombre_equipo)\n",
        "        df1 = pd.DataFrame({\"Posición\": posiciones, \"Avr\": abreviaturas, \"Nombre\": nombres})\n",
        "\n",
        "        tabla_posiciones2 = soup.find(\"table\", {\"class\": \"Table Table--align-right\"})\n",
        "        tbody = tabla_posiciones2.find(\"tbody\", {\"class\": \"Table__TBODY\"})\n",
        "        filas2 = tbody.find_all(\"tr\", {\"class\": [\"Table__TR Table__TR--sm Table__even\", \"filled Table__TR Table__TR--sm Table__even\"]})\n",
        "        datos_por_idx = {}\n",
        "        for fila in filas2:\n",
        "            data_idx = fila.get(\"data-idx\")\n",
        "            if data_idx is None:\n",
        "                continue\n",
        "            stat_cells = fila.find_all(\"span\", {\"class\": \"stat-cell\"})\n",
        "            if data_idx not in datos_por_idx:\n",
        "                datos_por_idx[data_idx] = []\n",
        "            datos_por_idx[data_idx].extend([cell.text for cell in stat_cells])\n",
        "        df2 = pd.DataFrame(datos_por_idx).T\n",
        "\n",
        "        df1 = df1.reset_index(drop=True)\n",
        "        df2 = df2.reset_index(drop=True)\n",
        "\n",
        "        df_final = pd.concat([df1, df2], axis=1)\n",
        "\n",
        "        nuevos_nombres_columnas = {\n",
        "            'Posición': 'Posicion',\n",
        "            'Avr': 'Abreviatura',\n",
        "            'Nombre': 'Equipo',\n",
        "            0: 'Número de partidos jugados',\n",
        "            1: 'El número de partidos ganados',\n",
        "            2: 'Empate',\n",
        "            3: 'Derrotas',\n",
        "            4: 'Goles a favor',\n",
        "            5: 'Goles en contra',\n",
        "            6: 'Diferencia de puntos',\n",
        "            7: 'Puntos'\n",
        "\n",
        "        }\n",
        "        df_final = df_final.rename(columns=nuevos_nombres_columnas)\n",
        "\n",
        "\n",
        "        return df_final\n",
        "\n",
        "    except requests.exceptions.RequestException as e:\n",
        "        print(f\"Error de conexión: {e}\")\n",
        "\n",
        "    except Exception as e:\n",
        "        print(f\"Error inesperado: {e}\")\n",
        "\n",
        "web_scraping_espn_combinado()"
      ],
      "metadata": {
        "id": "Q3xT5aPjlh1X"
      },
      "execution_count": null,
      "outputs": []
    },
    {
      "cell_type": "code",
      "source": [
        "from google.colab import drive\n",
        "import sqlite3\n",
        "\n",
        "drive.mount('/content/drive')\n",
        "\n",
        "database_path = '/content/drive/MyDrive/Pad2025/Actividad_pad.db'\n",
        "\n",
        "try:\n",
        "    conn = sqlite3.connect(database_path)\n",
        "    cursor = conn.cursor()\n",
        "\n",
        "    cursor.execute(\"SELECT SQLITE_VERSION()\")\n",
        "    version = cursor.fetchone()[0]\n",
        "    print(f\"Versión de SQLite: {version}\")\n",
        "\n",
        "    conn.close()\n",
        "\n",
        "except sqlite3.Error as e:\n",
        "    print(f\"Error al conectar a SQLite: {e}\")"
      ],
      "metadata": {
        "id": "iSwIAk4Vw_rU"
      },
      "execution_count": null,
      "outputs": []
    },
    {
      "cell_type": "code",
      "source": [
        "try:\n",
        "    conn = sqlite3.connect(database_path)\n",
        "    cursor = conn.cursor()\n",
        "\n",
        "    cursor.execute('''\n",
        "        CREATE TABLE IF NOT EXISTS PremierLeague (\n",
        "            Posicion INTEGER,\n",
        "            Abreviatura TEXT,\n",
        "            Equipo TEXT,\n",
        "            \"Número de partidos jugados\" INTEGER,\n",
        "            \"El número de partidos ganados\" INTEGER,\n",
        "            Empate INTEGER,\n",
        "            Derrotas INTEGER,\n",
        "            \"Goles a favor\" INTEGER,\n",
        "            \"Goles en contra\" INTEGER,\n",
        "            \"Diferencia de puntos\" INTEGER,\n",
        "            Puntos INTEGER\n",
        "        )\n",
        "    ''')\n",
        "\n",
        "    conn.commit()\n",
        "    conn.close()\n",
        "\n",
        "    print(\"Tabla 'PremierLeague' creada exitosamente en la base de datos.\")\n",
        "\n",
        "except sqlite3.Error as e:\n",
        "    print(f\"Error al crear la tabla: {e}\")"
      ],
      "metadata": {
        "id": "lwxlRPrU5G3B"
      },
      "execution_count": null,
      "outputs": []
    },
    {
      "cell_type": "code",
      "source": [
        "try:\n",
        "    conn = sqlite3.connect(database_path)\n",
        "\n",
        "    df_final = web_scraping_espn_combinado()\n",
        "    df_final.to_sql('PremierLeague', conn, if_exists='replace', index=False)\n",
        "\n",
        "    conn.close()\n",
        "\n",
        "    print(\"Datos insertados correctamente en la tabla 'PremierLeague'.\")\n",
        "\n",
        "except sqlite3.Error as e:\n",
        "    print(f\"Error al insertar los datos: {e}\")"
      ],
      "metadata": {
        "id": "31_Qh8NW5nOk"
      },
      "execution_count": null,
      "outputs": []
    },
    {
      "cell_type": "code",
      "source": [
        "try:\n",
        "    conn = sqlite3.connect(database_path)\n",
        "    cursor = conn.cursor()\n",
        "\n",
        "    cursor.execute(\"SELECT * FROM PremierLeague\")\n",
        "\n",
        "    results = cursor.fetchall()\n",
        "\n",
        "    for row in results:\n",
        "        print(row)\n",
        "\n",
        "    df = pd.DataFrame(results, columns=[description[0] for description in cursor.description])\n",
        "\n",
        "    conn.close()\n",
        "\n",
        "except sqlite3.Error as e:\n",
        "    print(f\"Error al consultar los datos: {e}\")"
      ],
      "metadata": {
        "id": "lI6LMet55u43"
      },
      "execution_count": null,
      "outputs": []
    }
  ]
}